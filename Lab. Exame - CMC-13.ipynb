{
 "cells": [
  {
   "cell_type": "markdown",
   "id": "f10876c1",
   "metadata": {},
   "source": [
    "### Equipe: Davi Xie"
   ]
  },
  {
   "cell_type": "markdown",
   "id": "d4e7b96c",
   "metadata": {},
   "source": [
    "### Projeto CMC-13"
   ]
  },
  {
   "cell_type": "markdown",
   "id": "8a7b7b0d",
   "metadata": {},
   "source": [
    "### 1 - Preparação dos dados"
   ]
  },
  {
   "cell_type": "markdown",
   "id": "a1ff615d",
   "metadata": {},
   "source": [
    "#### 1.1 - Pré-Processamento"
   ]
  },
  {
   "cell_type": "markdown",
   "id": "dd56fcb1",
   "metadata": {},
   "source": [
    "#### 1.1.1 - Remover Dados Faltantes"
   ]
  },
  {
   "cell_type": "markdown",
   "id": "ae5aa91c",
   "metadata": {},
   "source": [
    "#### 1.1.2 - Atributos redundantes"
   ]
  },
  {
   "cell_type": "markdown",
   "id": "65df4c46",
   "metadata": {},
   "source": [
    "#### 1.2 - Análise Exploratória"
   ]
  },
  {
   "cell_type": "markdown",
   "id": "64dc9ec3",
   "metadata": {},
   "source": [
    "#### 1.2.1 - Análise Exploratória para Dados Quantitativos"
   ]
  },
  {
   "cell_type": "markdown",
   "id": "2923a953",
   "metadata": {},
   "source": [
    "#### 1.2.2 - Identificação dos Outliers"
   ]
  },
  {
   "cell_type": "markdown",
   "id": "7211d074",
   "metadata": {},
   "source": [
    "#### 1.2.3 - Análise Exploratória para Dados Qualitativos"
   ]
  },
  {
   "cell_type": "markdown",
   "id": "87e0e679",
   "metadata": {},
   "source": [
    "#### 1.3 Separação do conjunto de Treino e Teste"
   ]
  },
  {
   "cell_type": "markdown",
   "id": "c49bd0a9",
   "metadata": {},
   "source": [
    "#### 1.4 - Seleção de Atributos"
   ]
  },
  {
   "cell_type": "markdown",
   "id": "dc6f8b06",
   "metadata": {},
   "source": [
    "#### 1.4.1 - Análise de Variância (ANOVA)"
   ]
  },
  {
   "cell_type": "markdown",
   "id": "d8b8285e",
   "metadata": {},
   "source": [
    "#### 1.4.2 - Teste qui-quadrado"
   ]
  },
  {
   "cell_type": "markdown",
   "id": "9f75605f",
   "metadata": {},
   "source": [
    "#### 1.5 - Engenharia de atributos"
   ]
  },
  {
   "cell_type": "markdown",
   "id": "d5309c53",
   "metadata": {},
   "source": [
    "#### 1.5.1 - Valores Faltantes"
   ]
  },
  {
   "cell_type": "markdown",
   "id": "c1bd11af",
   "metadata": {},
   "source": [
    "#### 1.5.2 - Rare Labels"
   ]
  },
  {
   "cell_type": "markdown",
   "id": "0596b63a",
   "metadata": {},
   "source": [
    "#### 1.5.3 - Conversão de variáveis Categóricas"
   ]
  },
  {
   "cell_type": "code",
   "execution_count": null,
   "id": "e37c3de4",
   "metadata": {},
   "outputs": [],
   "source": []
  },
  {
   "cell_type": "markdown",
   "id": "1d80fb25",
   "metadata": {},
   "source": [
    "### 2 - Modelo baseado em Redes Neurais do tipo MLP (MultiLayer Perceptron)"
   ]
  },
  {
   "cell_type": "code",
   "execution_count": null,
   "id": "54d3f8f9",
   "metadata": {},
   "outputs": [],
   "source": []
  },
  {
   "cell_type": "markdown",
   "id": "04cc0ce8",
   "metadata": {},
   "source": [
    "### 3 - Modelo baseado em Árvores de Decisão ou Em Florestas Aleatórias (Random Forests)"
   ]
  },
  {
   "cell_type": "code",
   "execution_count": null,
   "id": "e02c04b5",
   "metadata": {},
   "outputs": [],
   "source": []
  },
  {
   "cell_type": "markdown",
   "id": "0543a76e",
   "metadata": {},
   "source": [
    "### 4 - Análise Comparativa do desempenho dos modelos."
   ]
  },
  {
   "cell_type": "code",
   "execution_count": null,
   "id": "4b8ebf7d",
   "metadata": {},
   "outputs": [],
   "source": []
  },
  {
   "cell_type": "markdown",
   "id": "0960da2f",
   "metadata": {},
   "source": [
    "### 5 - Aplicação da predição do Modelo Desenvolvido"
   ]
  },
  {
   "cell_type": "code",
   "execution_count": null,
   "id": "34e5d0a9",
   "metadata": {},
   "outputs": [],
   "source": []
  },
  {
   "cell_type": "markdown",
   "id": "7a9a905b",
   "metadata": {},
   "source": [
    "### 6 - Conclusões"
   ]
  },
  {
   "cell_type": "code",
   "execution_count": null,
   "id": "13a5d6f6",
   "metadata": {},
   "outputs": [],
   "source": []
  }
 ],
 "metadata": {
  "kernelspec": {
   "display_name": "Python 3 (ipykernel)",
   "language": "python",
   "name": "python3"
  },
  "language_info": {
   "codemirror_mode": {
    "name": "ipython",
    "version": 3
   },
   "file_extension": ".py",
   "mimetype": "text/x-python",
   "name": "python",
   "nbconvert_exporter": "python",
   "pygments_lexer": "ipython3",
   "version": "3.11.2"
  }
 },
 "nbformat": 4,
 "nbformat_minor": 5
}
